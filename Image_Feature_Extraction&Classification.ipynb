{
  "nbformat": 4,
  "nbformat_minor": 0,
  "metadata": {
    "colab": {
      "provenance": [],
      "history_visible": true,
      "gpuType": "T4",
      "authorship_tag": "ABX9TyMpaG94QRLoe0YZBvuhxKPz",
      "include_colab_link": true
    },
    "kernelspec": {
      "name": "python3",
      "display_name": "Python 3"
    },
    "language_info": {
      "name": "python"
    },
    "accelerator": "GPU"
  },
  "cells": [
    {
      "cell_type": "markdown",
      "metadata": {
        "id": "view-in-github",
        "colab_type": "text"
      },
      "source": [
        "<a href=\"https://colab.research.google.com/github/HARI24VEDHA/Image-Feature-Extraction-and-Classification-/blob/main/Image_Feature_Extraction%26Classification.ipynb\" target=\"_parent\"><img src=\"https://colab.research.google.com/assets/colab-badge.svg\" alt=\"Open In Colab\"/></a>"
      ]
    },
    {
      "cell_type": "code",
      "execution_count": 1,
      "metadata": {
        "id": "Om28V0By1Hr8"
      },
      "outputs": [],
      "source": [
        "import numpy as np\n",
        "import time\n",
        "import tensorflow as tf\n",
        "from sklearn.datasets import load_digits\n",
        "from tensorflow.keras.applications import VGG16\n",
        "from tensorflow.keras.models import Model\n",
        "from tensorflow.keras.applications.vgg16 import preprocess_input\n",
        "from skimage.feature import hog\n",
        "from sklearn.neighbors import KNeighborsClassifier\n",
        "from sklearn.linear_model import LogisticRegression\n",
        "from sklearn.metrics import accuracy_score, classification_report\n",
        "from sklearn.model_selection import train_test_split\n"
      ]
    },
    {
      "cell_type": "code",
      "source": [
        "digits = load_digits()\n",
        "X, y = digits.images, digits.target  # Images & Labels\n",
        "\n",
        "# Split into training and test sets\n",
        "x_train, x_test, y_train, y_test = train_test_split(X, y, test_size=0.2, random_state=42)"
      ],
      "metadata": {
        "id": "CgztIPxt1dhf"
      },
      "execution_count": 2,
      "outputs": []
    },
    {
      "cell_type": "code",
      "source": [
        "# ============================\n",
        "# 2️⃣ HOG Feature Extraction + KNN\n",
        "# ============================\n",
        "\n",
        "def extract_hog_features(images):\n",
        "    return np.array([hog(img, pixels_per_cell=(4, 4), cells_per_block=(2, 2), feature_vector=True) for img in images])\n",
        "\n",
        "start_time = time.time()\n",
        "hog_train = extract_hog_features(x_train)\n",
        "hog_test = extract_hog_features(x_test)\n",
        "hog_extraction_time = time.time() - start_time\n",
        "\n",
        "# Train KNN Model\n",
        "knn_model = KNeighborsClassifier(n_neighbors=3)\n",
        "start_time = time.time()\n",
        "knn_model.fit(hog_train, y_train)\n",
        "knn_training_time = time.time() - start_time\n",
        "\n",
        "# Evaluate KNN Model\n",
        "hog_preds = knn_model.predict(hog_test)\n",
        "hog_accuracy = accuracy_score(y_test, hog_preds)\n",
        "hog_report = classification_report(y_test, hog_preds)\n"
      ],
      "metadata": {
        "id": "2mGHwsuL1j25"
      },
      "execution_count": 3,
      "outputs": []
    },
    {
      "cell_type": "code",
      "source": [
        "# ============================\n",
        "# 3️⃣ VGG16 Feature Extraction + Logistic Regression\n",
        "# ============================\n",
        "\n",
        "# Convert grayscale (1-channel) to RGB (3-channel)\n",
        "x_train_rgb = np.repeat(x_train[..., np.newaxis], 3, axis=-1)\n",
        "x_test_rgb = np.repeat(x_test[..., np.newaxis], 3, axis=-1)\n",
        "\n",
        "# Resize images for VGG16 (224x224)\n",
        "x_train_resized = np.array([tf.image.resize(img, (224, 224)).numpy() for img in x_train_rgb])\n",
        "x_test_resized = np.array([tf.image.resize(img, (224, 224)).numpy() for img in x_test_rgb])\n",
        "\n",
        "# Normalize & preprocess for VGG16\n",
        "x_train_resized = preprocess_input(x_train_resized)\n",
        "x_test_resized = preprocess_input(x_test_resized)\n",
        "\n",
        "# Load VGG16 Pretrained Model\n",
        "base_model = VGG16(weights='imagenet', include_top=False, input_shape=(224, 224, 3))\n",
        "feature_extractor = Model(inputs=base_model.input, outputs=base_model.output)\n",
        "\n",
        "# Extract Deep Features\n",
        "start_time = time.time()\n",
        "vgg_train = feature_extractor.predict(x_train_resized)\n",
        "vgg_test = feature_extractor.predict(x_test_resized)\n",
        "vgg_extraction_time = time.time() - start_time\n",
        "\n",
        "# Flatten Features\n",
        "vgg_train = vgg_train.reshape(vgg_train.shape[0], -1)\n",
        "vgg_test = vgg_test.reshape(vgg_test.shape[0], -1)"
      ],
      "metadata": {
        "colab": {
          "base_uri": "https://localhost:8080/"
        },
        "id": "0Qvt8j4z1n3L",
        "outputId": "28507811-42d5-41b7-f0cb-27d350755aa0"
      },
      "execution_count": 4,
      "outputs": [
        {
          "output_type": "stream",
          "name": "stdout",
          "text": [
            "Downloading data from https://storage.googleapis.com/tensorflow/keras-applications/vgg16/vgg16_weights_tf_dim_ordering_tf_kernels_notop.h5\n",
            "\u001b[1m58889256/58889256\u001b[0m \u001b[32m━━━━━━━━━━━━━━━━━━━━\u001b[0m\u001b[37m\u001b[0m \u001b[1m4s\u001b[0m 0us/step\n",
            "\u001b[1m45/45\u001b[0m \u001b[32m━━━━━━━━━━━━━━━━━━━━\u001b[0m\u001b[37m\u001b[0m \u001b[1m29s\u001b[0m 399ms/step\n",
            "\u001b[1m12/12\u001b[0m \u001b[32m━━━━━━━━━━━━━━━━━━━━\u001b[0m\u001b[37m\u001b[0m \u001b[1m6s\u001b[0m 534ms/step\n"
          ]
        }
      ]
    },
    {
      "cell_type": "code",
      "source": [
        "# Train Logistic Regression Model\n",
        "logistic_model = LogisticRegression(max_iter=500)\n",
        "start_time = time.time()\n",
        "logistic_model.fit(vgg_train, y_train)\n",
        "vgg_training_time = time.time() - start_time\n",
        "\n",
        "# Evaluate Logistic Regression Model\n",
        "vgg_preds = logistic_model.predict(vgg_test)\n",
        "vgg_accuracy = accuracy_score(y_test, vgg_preds)\n",
        "vgg_report = classification_report(y_test, vgg_preds)"
      ],
      "metadata": {
        "id": "FpqN7UwQ1zmf"
      },
      "execution_count": 5,
      "outputs": []
    },
    {
      "cell_type": "code",
      "source": [
        "# ============================\n",
        "# 4️⃣ Print Results\n",
        "# ============================\n",
        "\n",
        "print(f\"\\n======== HOG + KNN Results ========\")\n",
        "print(f\"Feature Extraction Time: {hog_extraction_time:.2f} seconds\")\n",
        "print(f\"Model Training Time: {knn_training_time:.2f} seconds\")\n",
        "print(f\"Accuracy: {hog_accuracy:.4f}\\n\")\n",
        "print(\"Classification Report:\\n\", hog_report)\n",
        "\n",
        "print(f\"\\n======== VGG16 + Logistic Regression Results ========\")\n",
        "print(f\"Feature Extraction Time: {vgg_extraction_time:.2f} seconds\")\n",
        "print(f\"Model Training Time: {vgg_training_time:.2f} seconds\")\n",
        "print(f\"Accuracy: {vgg_accuracy:.4f}\\n\")\n",
        "print(\"Classification Report:\\n\", vgg_report)"
      ],
      "metadata": {
        "colab": {
          "base_uri": "https://localhost:8080/"
        },
        "id": "hkJrur_Y15aW",
        "outputId": "1476809a-bc0e-49d2-9c26-ea02bb62cbdf"
      },
      "execution_count": 6,
      "outputs": [
        {
          "output_type": "stream",
          "name": "stdout",
          "text": [
            "\n",
            "======== HOG + KNN Results ========\n",
            "Feature Extraction Time: 0.43 seconds\n",
            "Model Training Time: 0.01 seconds\n",
            "Accuracy: 0.8194\n",
            "\n",
            "Classification Report:\n",
            "               precision    recall  f1-score   support\n",
            "\n",
            "           0       0.70      0.97      0.81        33\n",
            "           1       0.85      1.00      0.92        28\n",
            "           2       0.77      0.91      0.83        33\n",
            "           3       0.66      0.68      0.67        34\n",
            "           4       0.85      0.85      0.85        46\n",
            "           5       0.93      0.87      0.90        47\n",
            "           6       0.89      0.94      0.92        35\n",
            "           7       0.91      0.88      0.90        34\n",
            "           8       0.82      0.47      0.60        30\n",
            "           9       0.83      0.62      0.71        40\n",
            "\n",
            "    accuracy                           0.82       360\n",
            "   macro avg       0.82      0.82      0.81       360\n",
            "weighted avg       0.83      0.82      0.81       360\n",
            "\n",
            "\n",
            "======== VGG16 + Logistic Regression Results ========\n",
            "Feature Extraction Time: 54.82 seconds\n",
            "Model Training Time: 78.25 seconds\n",
            "Accuracy: 0.9722\n",
            "\n",
            "Classification Report:\n",
            "               precision    recall  f1-score   support\n",
            "\n",
            "           0       1.00      0.97      0.98        33\n",
            "           1       0.90      0.96      0.93        28\n",
            "           2       0.97      1.00      0.99        33\n",
            "           3       0.97      1.00      0.99        34\n",
            "           4       1.00      1.00      1.00        46\n",
            "           5       0.98      0.96      0.97        47\n",
            "           6       0.95      1.00      0.97        35\n",
            "           7       1.00      0.97      0.99        34\n",
            "           8       0.97      0.93      0.95        30\n",
            "           9       0.97      0.93      0.95        40\n",
            "\n",
            "    accuracy                           0.97       360\n",
            "   macro avg       0.97      0.97      0.97       360\n",
            "weighted avg       0.97      0.97      0.97       360\n",
            "\n"
          ]
        }
      ]
    }
  ]
}